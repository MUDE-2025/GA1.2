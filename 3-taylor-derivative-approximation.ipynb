{
 "cells": [
  {
   "cell_type": "markdown",
   "metadata": {},
   "source": [
    "# Part 3: Deriving numerical derivatives from Taylor series expansions\n",
    "\n",
    "After we had a closer look at the meaning of Taylor series, you will now practice how you can apply Taylor series to derive expressions for numerical derivatives.\n",
    "\n",
    "<div style=\"background-color:#AABAB2; color: black; width:90%; vertical-align: middle; padding:15px; margin: 10px; border-radius: 10px\">\n",
    "<p>\n",
    "\n",
    "**Task 3.1**\n",
    "    \n",
    "Derive the backward difference method such that it is *second-order* accurate. Refer to the book for an illustration of this approach with first-order accuracy. Insert an image of your math below.\n",
    "\n",
    "*You don't have to further use the result in this assignment, but it is useful to understand the approach and prepare for the exam.*\n",
    "\n",
    "Tips:\n",
    "- You will have to combine Taylor series expansions for the function at two different points.\n",
    "- At what order do you need to truncate the Taylor series to get a second order accurate method?    \n",
    "</p>\n",
    "</div>"
   ]
  },
  {
   "cell_type": "markdown",
   "metadata": {},
   "source": [
    "> By Anna Störiko, Ronald Brinkgreve, Justin Pittman, Jaime Arriaga Garcia, Robert Lanzafame, Delft University of Technology. CC BY 4.0, more info [on the Credits page of Workbook](https://mude.citg.tudelft.nl/workbook-2025/credits.html)."
   ]
  }
 ],
 "metadata": {
  "kernelspec": {
   "display_name": "mude-base",
   "language": "python",
   "name": "python3"
  },
  "language_info": {
   "codemirror_mode": {
    "name": "ipython",
    "version": 3
   },
   "file_extension": ".py",
   "mimetype": "text/x-python",
   "name": "python",
   "nbconvert_exporter": "python",
   "pygments_lexer": "ipython3",
   "version": "3.12.5"
  }
 },
 "nbformat": 4,
 "nbformat_minor": 4
}
