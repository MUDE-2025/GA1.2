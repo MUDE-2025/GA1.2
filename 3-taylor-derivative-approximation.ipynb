{
 "cells": [
  {
   "cell_type": "markdown",
   "metadata": {},
   "source": [
    "## Part 3: Deriving numerical derivatives from Taylor series expansions\n",
    "\n",
    "After we had a closer look at the meaning of Taylor series, you will now practice how you can apply Taylor series to derive expressions for numerical derivatives.\n",
    "\n",
    "<div style=\"background-color:#AABAB2; color: black; width:90%; vertical-align: middle; padding:15px; margin: 10px; border-radius: 10px\">\n",
    "<p>\n",
    "\n",
    "**Task 3.1**\n",
    "    \n",
    "Derive the backward difference method such that it is *second-order* accurate. Refer to the book for an illustration of this approach with first-order accuracy. Insert an image of your math below.\n",
    "\n",
    "*You don't have to further use the result in this assignment, but it is useful to understand the approach and prepare for the exam.*\n",
    "\n",
    "Tips:\n",
    "- You will have to combine Taylor series expansions for the function at two different points.\n",
    "- At what order do you need to truncate the Taylor series to get a second order accurate method?    \n",
    "</p>\n",
    "</div>"
   ]
  },
  {
   "cell_type": "markdown",
   "metadata": {},
   "source": [
    "<div style=\"background-color:#FAE99E; color: black; vertical-align: middle; padding:15px; margin: 10px; border-radius: 10px; width: 90%\">\n",
    "<p>\n",
    "\n",
    "**Solution 3.1**\n",
    "    \n",
    "For backward differences we evaluate the Taylor series around $x_i$ at $x_{i−1}$ and $x_{i−2}$.\n",
    "To end up with a second-order accurate expression, we need to include terms at least up to $n=2$.\n",
    "This yields the following Taylor approximations:\n",
    "    \n",
    "$$f(x_{i-1})\\approx f(x_{i})+(x_{i-1}-x_i)\\frac{\\partial f(x_{i})}{\\partial x} +\\frac{(x_{i-1}-x_i)^2}{2}\\frac{\\partial^2 f(x_i)}{\\partial x^2}+\\mathcal{O}((x_{i-1}-x_i)^3)$$\n",
    "$$f(x_{i-2})\\approx f(x_{i})+(x_{i-2}-x_i)\\frac{\\partial f(x_{i})}{\\partial x} +\\frac{(x_{i-2}-x_i)^2}{2}\\frac{\\partial^2 f(x_i)}{\\partial x^2}+\\mathcal{O}((x_{i-2}-x_i)^3)$$\n",
    "\n",
    "    \n",
    "We set $\\Delta x = x_i - x_{i-1}$ for all $i$, which also means: $2\\Delta x = x_i-x_{i-2}$\n",
    "    \n",
    "$$f(x_{i-1})\\approx f(x_{i})-\\Delta x\\frac{\\partial f(x_{i})}{\\partial x} +\\frac{\\Delta x^2}{2}\\frac{\\partial^2 f(x_i)}{\\partial x^2}+\\mathcal{O}(\\Delta x^3)$$\n",
    "$$f(x_{i-2})\\approx f(x_{i})-2\\Delta x\\frac{\\partial f(x_{i})}{\\partial x} +\\frac{4\\Delta x^2}{2}\\frac{\\partial^2 f(x_i)}{\\partial x^2}+\\mathcal{O}(\\Delta x^3)$$\n",
    "    \n",
    "To get rid of the term including the second derivative, we multiply the first expression by 4 and subtract the second expression:\n",
    "    \n",
    "$$\n",
    "\\begin{aligned}\n",
    "4f(x_{i-1})-f(x_{i-2})&\\approx (4-1)f(x_{i})-(4-2)\\Delta x\\frac{\\partial f(x_{i})}{\\partial x} + (4-4)\\frac{\\Delta x^2}{2}\\frac{\\partial^2 f(x_i)}{\\partial x^2}+\\mathcal{O}(\\Delta x^3)\\\\\n",
    "&= 3f(x_{i})-2\\Delta x\\frac{\\partial f(x_{i})}{\\partial x} + \\mathcal{O}(\\Delta x^3)\n",
    "\\end{aligned}\n",
    "$$\n",
    "\n",
    "Bring the derivative to the left side and all terms involving $f(x)$ to the right side:\n",
    "$$ 2\\Delta x\\frac{\\partial f(x_{i})}{\\partial x} \\approx 3f(x_i)-4f(x_{i-1})+f(x_{i-2}) +\\mathcal{O}(\\Delta x^3)$$\n",
    "\n",
    "Divide by $2 \\Delta x$:\n",
    "\n",
    "$$\\frac{\\partial f(x_{i})}{\\partial x} \\approx \\frac{3f(x_i)-4f(x_{i-1})+f(x_{i-2})}{2\\Delta x} +\\mathcal{O}(\\Delta x^2)$$\n",
    "\n",
    "Note how the order of the error changes because we divide by $\\Delta x$.\n",
    "The final expression is second-order accurate.\n",
    "\n",
    "</p></div>"
   ]
  },
  {
   "cell_type": "markdown",
   "metadata": {},
   "source": [
    "<div style=\"margin-top: 50px; padding-top: 20px; border-top: 1px solid #ccc;\">\n",
    "  <div style=\"display: flex; justify-content: flex-end; gap: 20px; align-items: center;\">\n",
    "    <a rel=\"MUDE\" href=\"http://mude.citg.tudelft.nl/\">\n",
    "      <img alt=\"MUDE\" style=\"width:100px; height:auto;\" src=\"https://gitlab.tudelft.nl/mude/public/-/raw/main/mude-logo/MUDE_Logo-small.png\" />\n",
    "    </a>\n",
    "    <a rel=\"TU Delft\" href=\"https://www.tudelft.nl/en/ceg\">\n",
    "      <img alt=\"TU Delft\" style=\"width:100px; height:auto;\" src=\"https://gitlab.tudelft.nl/mude/public/-/raw/main/tu-logo/TU_P1_full-color.png\" />\n",
    "    </a>\n",
    "    <a rel=\"license\" href=\"http://creativecommons.org/licenses/by/4.0/\">\n",
    "      <img alt=\"Creative Commons License\" style=\"width:88px; height:auto;\" src=\"https://i.creativecommons.org/l/by/4.0/88x31.png\" />\n",
    "    </a>\n",
    "  </div>\n",
    "  <div style=\"font-size: 75%; margin-top: 10px; text-align: right;\">\n",
    "    &copy; Copyright 2025 <a rel=\"MUDE\" href=\"http://mude.citg.tudelft.nl/\">MUDE</a> TU Delft. \n",
    "    This work is licensed under a <a rel=\"license\" href=\"http://creativecommons.org/licenses/by/4.0/\">CC BY 4.0 License</a>.\n",
    "  </div>\n",
    "</div>"
   ]
  }
 ],
 "metadata": {
  "kernelspec": {
   "display_name": "mude-base",
   "language": "python",
   "name": "python3"
  },
  "language_info": {
   "codemirror_mode": {
    "name": "ipython",
    "version": 3
   },
   "file_extension": ".py",
   "mimetype": "text/x-python",
   "name": "python",
   "nbconvert_exporter": "python",
   "pygments_lexer": "ipython3",
   "version": "3.12.5"
  }
 },
 "nbformat": 4,
 "nbformat_minor": 4
}
