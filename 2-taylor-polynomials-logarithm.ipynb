{
 "cells": [
  {
   "cell_type": "markdown",
   "metadata": {},
   "source": [
    "# Part 2: Taylor Series Approximation\n",
    "\n",
    "Taylor series are a powerful tool to approximate functions.\n",
    "Throughout this week’s chapter in the text book, you have seen how Taylor series can be used to derive numerical approximations for derivatives and estimate the errors of numerical integration and differentiation techniques.\n",
    "\n",
    "In the following exercises, we will have a closer look at how this approximation works.\n",
    "The visualizations you create will hopefully help you to build some intuition for the meaning of a Taylor series.\n",
    "\n",
    "We will approximate the natural logarithm by a number of Taylor polynomials of increasing order.\n",
    "\n",
    "## Analytical Expression\n",
    "\n",
    "<div style=\"background-color:#AABAB2; color: black; width:90%; vertical-align: middle; padding:15px; margin: 10px; border-radius: 10px\">\n",
    "<p>\n",
    "\n",
    "**Task 2.1**\n",
    "\n",
    "This is a pen-and-paper exercise. Write down the terms first four terms of the Taylor series for $f(x) = \\ln(x)$ around $x_0=1$.\n",
    "\n",
    "</p>\n",
    "</div>"
   ]
  },
  {
   "cell_type": "markdown",
   "metadata": {},
   "source": [
    "## Plotting the Taylor Polynomials"
   ]
  },
  {
   "cell_type": "markdown",
   "metadata": {},
   "source": [
    "<div style=\"background-color:#AABAB2; color: black; width:90%; vertical-align: middle; padding:15px; margin: 10px; border-radius: 10px\">\n",
    "<p>\n",
    "\n",
    "**Task 2.2**\n",
    "\n",
    "Before continuing with the Taylor series approximations, plot the expression $f(x)=\\ln(x)$ in the interval $[0, 3]$. This will be used as benchmark to assess your approximations. We will want to produce plots that will include each successive term of the Taylor approximation to see how the approximation improves as we include more terms in the Taylor series.\n",
    "\n",
    "</p>\n",
    "</div>"
   ]
  },
  {
   "cell_type": "code",
   "execution_count": null,
   "metadata": {},
   "outputs": [],
   "source": [
    "import math\n",
    "import numpy as np\n",
    "import matplotlib.pyplot as plt"
   ]
  },
  {
   "cell_type": "code",
   "execution_count": null,
   "metadata": {
    "tags": [
     "assignment"
    ]
   },
   "outputs": [],
   "source": [
    "x = np.linspace(### YOUR CODE HERE ###, ### YOUR CODE HERE ###, num=200)\n",
    "\n",
    "def f(x):\n",
    "    return ### YOUR CODE HERE ###\n",
    "\n",
    "plt.plot(x, f(x))\n",
    "plt.xlabel('x')\n",
    "plt.ylabel('f(x)')\n",
    "plt.title(\"Plot of $f(x) = \\\\ln(x)$\");"
   ]
  },
  {
   "cell_type": "markdown",
   "metadata": {},
   "source": [
    "<div style=\"background-color:#AABAB2; color: black; width:90%; vertical-align: middle; padding:15px; margin: 10px; border-radius: 10px\">\n",
    "<p>\n",
    "\n",
    "**Task 2.3**\n",
    "\n",
    "Implement a Python function that evaluates the nth derivative of $\\ln(x)$ (at least up to $n=4$), so we can use it to compute the Taylor polynomial.\n",
    "Complete the function template in the code cell below.\n",
    "\n",
    "Tip: to compute the factorial, you can use the function `math.factorial` from the Python standard library.\n",
    "\n",
    "</p>\n",
    "</div>"
   ]
  },
  {
   "cell_type": "code",
   "execution_count": null,
   "metadata": {
    "tags": [
     "assignment"
    ]
   },
   "outputs": [],
   "source": [
    "def fn(x, n):\n",
    "    \"\"\"Compute the nth derivative of ln(x) at point x\"\"\"\n",
    "    ### YOUR CODE HERE ###\n",
    "    return ### YOUR CODE HERE ###"
   ]
  },
  {
   "cell_type": "markdown",
   "metadata": {},
   "source": [
    "<div style=\"background-color:#AABAB2; color: black; width:90%; vertical-align: middle; padding:15px; margin: 10px; border-radius: 10px\">\n",
    "<p>\n",
    "\n",
    "**Task 2.4**\n",
    "\n",
    "Define the expansion point $x_0$ in Python and provide Python expressions for the Taylor polynomials of first, second, third and fourth order.\n",
    "\n",
    "</p>\n",
    "</div>"
   ]
  },
  {
   "cell_type": "code",
   "execution_count": null,
   "metadata": {
    "tags": [
     "assignment"
    ]
   },
   "outputs": [],
   "source": [
    "x0 = ### YOUR CODE HERE ###\n",
    "taylor_1 = ### YOUR CODE HERE ###\n",
    "taylor_2 = ### YOUR CODE HERE ###\n",
    "taylor_3 = ### YOUR CODE HERE ###\n",
    "taylor_4 = ### YOUR CODE HERE ###"
   ]
  },
  {
   "cell_type": "markdown",
   "metadata": {},
   "source": [
    "<div style=\"background-color:#AABAB2; color: black; width:90%; vertical-align: middle; padding:15px; margin: 10px; border-radius: 10px\">\n",
    "<p>\n",
    "\n",
    "**Task 2.5**\n",
    "\n",
    "Fill in the code below to plot the function $f(x)$ along with the Taylor polynomials of increasing order.\n",
    "\n",
    "</p>\n",
    "</div>"
   ]
  },
  {
   "cell_type": "code",
   "execution_count": null,
   "metadata": {
    "tags": [
     "assignment"
    ]
   },
   "outputs": [],
   "source": [
    "# Plot f(x) and the Taylor polynomials\n",
    "plt.plot(x, f(x), label=\"$f(x) = \\\\ln(x)$\", color=\"k\")\n",
    "plt.plot(x, ### YOUR CODE HERE ###, label=\"First Order\", color=\"C0\")\n",
    "plt.plot(x, ### YOUR CODE HERE ###, label=\"Second Order\", color=\"C1\")\n",
    "plt.plot(x, ### YOUR CODE HERE ###, label=\"Third Order\", color=\"C2\")\n",
    "plt.plot(x, ### YOUR CODE HERE ###, label=\"Fourth Order\", color=\"C3\")\n",
    "\n",
    "# Plot the expansion point x0 as a dot\n",
    "plt.scatter(\n",
    "    ### YOUR CODE HERE ###,\n",
    "    ### YOUR CODE HERE ###,\n",
    "    color=\"k\",\n",
    "    marker=\"o\",\n",
    "    label=f\"Expansion Point ($x = {x0:0.2f}$)\"\n",
    ")\n",
    "\n",
    "# Add labels to the plot\n",
    "plt.xlabel(\"x\")\n",
    "plt.ylabel(\"$f(x)$\")\n",
    "plt.title(\"Taylor polynomials of $f(x) = \\\\ln(x)$\")\n",
    "plt.legend()"
   ]
  },
  {
   "cell_type": "markdown",
   "metadata": {},
   "source": [
    "<div style=\"background-color:#AABAB2; color: black; width:90%; vertical-align: middle; padding:15px; margin: 10px; border-radius: 10px\">\n",
    "<p>\n",
    "\n",
    "**Task 2.6**\n",
    "\n",
    "Look at the plot you just created. Which Taylor polynomial approximates the function $f(x)$ the best? How does depend on the distance from the expansion point $x_0$? You can use your findings to help answer question 2.3 in the report.\n",
    "\n",
    "</p>\n",
    "</div>\n",
    "\n",
    "\n",
    "## Absolute error\n",
    "\n",
    "To further analyze the error introduced by truncating the Taylor series, we can evaluate the absolute difference between the function $f(x)$ and the Taylor polynomials:\n",
    "\n",
    "$$\\text{error} =|f(x)-T_n|\\,$$\n",
    "\n",
    "where $T_n$ refers to the Taylor polynomial of $n$th order.\n",
    "\n",
    "<div style=\"background-color:#AABAB2; color: black; width:90%; vertical-align: middle; padding:15px; margin: 10px; border-radius: 10px\">\n",
    "<p>\n",
    "\n",
    "**Task 2.7**\n",
    "\n",
    "Use your Taylor series approximations and the analytic expression for $f(x)$ to determine the absolute error. Plot the error against $x$ and vary the $x$- and $y$-limits. Are the larger order Taylor polynomials always more accurate? You can use your findings to help answer question 2.3 in the report.\n",
    "\n",
    "</p>\n",
    "</div>"
   ]
  },
  {
   "cell_type": "code",
   "execution_count": null,
   "metadata": {
    "tags": [
     "assignment"
    ]
   },
   "outputs": [],
   "source": [
    "# Compute the absolute error\n",
    "error_1 = ### YOUR CODE HERE ###\n",
    "error_2 = ### YOUR CODE HERE ###\n",
    "error_3 = ### YOUR CODE HERE ###\n",
    "error_4 = ### YOUR CODE HERE ###\n",
    "\n",
    "# Plot the absolute error against x\n",
    "plt.plot(x, ### YOUR CODE HERE ###, label=\"First Order\", color=\"C0\")\n",
    "plt.plot(x, ### YOUR CODE HERE ###, label=\"Second Order\", color=\"C1\")\n",
    "plt.plot(x, ### YOUR CODE HERE ###, label=\"Third Order\", color=\"C2\")\n",
    "plt.plot(x, ### YOUR CODE HERE ###, label=\"Fourth Order\", color=\"C3\")\n",
    "\n",
    "# Add labels\n",
    "plt.xlabel(\"x\")\n",
    "plt.ylabel(\"Absolute Error: $f(x)-\\\\mathrm{Taylor~polynomial}$\")\n",
    "plt.title(\"Absolute Error of Taylor Series Approximations\")\n",
    "plt.legend()"
   ]
  },
  {
   "cell_type": "markdown",
   "metadata": {},
   "source": [
    "> By Anna Störiko, Ronald Brinkgreve, Justin Pittman, Jaime Arriaga Garcia, Robert Lanzafame, Delft University of Technology. CC BY 4.0, more info [on the Credits page of Workbook](https://mude.citg.tudelft.nl/workbook-2025/credits.html)"
   ]
  }
 ],
 "metadata": {
  "kernelspec": {
   "display_name": "mude-base",
   "language": "python",
   "name": "python3"
  },
  "language_info": {
   "codemirror_mode": {
    "name": "ipython",
    "version": 3
   },
   "file_extension": ".py",
   "mimetype": "text/x-python",
   "name": "python",
   "nbconvert_exporter": "python",
   "pygments_lexer": "ipython3",
   "version": "3.12.11"
  }
 },
 "nbformat": 4,
 "nbformat_minor": 4
}
