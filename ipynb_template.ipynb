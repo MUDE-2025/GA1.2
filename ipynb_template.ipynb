{
 "cells": [
  {
   "cell_type": "markdown",
   "metadata": {},
   "source": [
    "# Group assignment 1.2: Numerical integration and Taylor series approximations\n",
    "\n",
    "*[CEGM1000 MUDE](http://mude.citg.tudelft.nl/)*\n",
    "\n",
    "*Written by: Anna Störiko*\n",
    "\n",
    "*Due: `<day of week>`, `<month>` `<day>`, `<year>`.*"
   ]
  },
  {
   "cell_type": "markdown",
   "metadata": {},
   "source": [
    "## Part 1\n",
    "\n",
    "\n",
    "Explain the salt dilution method"
   ]
  },
  {
   "cell_type": "code",
   "execution_count": null,
   "metadata": {},
   "outputs": [],
   "source": [
    "import numpy as np\n",
    "import matplotlib.pyplot as plt\n",
    "from scipy.optimize import curve_fit\n",
    "\n",
    "time = np.array([  0.,  10.,  20.,  30.,  41.,  50.,  60.,  70.,  78.,  90., 100.,\n",
    "       110., 120., 130., 140., 150., 170., 180., 190., 200.])\n",
    "concentration = np.array([0, 0.02, 0.1, 0.4, 0.7, 0.6, 0.4, 0.3, 0.22, 0.18, 0.15, 0.12, 0.1, 0.08, 0.06, 0.04, 0.01, 0, 0, 0])\n",
    "dt = np.diff(time)\n",
    "plt.plot(time, concentration, marker=\"o\")"
   ]
  },
  {
   "cell_type": "markdown",
   "metadata": {},
   "source": [
    "<div style=\"background-color:#AABAB2; color: black; width:90%; vertical-align: middle; padding:15px; margin: 10px; border-radius: 10px\">\n",
    "<p>\n",
    "\n",
    "### Task 1.1\n",
    "\n",
    "Compute the area under the concentration curve by numerical integration. Compare two numerical integration methods of your choice.\n",
    "\n",
    "</p>\n",
    "</div>"
   ]
  },
  {
   "cell_type": "code",
   "execution_count": null,
   "metadata": {
    "tags": [
     "solution"
    ]
   },
   "outputs": [],
   "source": [
    "# Compute the area of the concentration curve with the trapezoidal rule\n",
    "trapezoid_areas = (concentration[:-1] + concentration[1:]) / 2 * dt\n",
    "total_area_trapz = np.sum(trapezoid_areas)\n",
    "\n",
    "# Compute the area of the concentration curve with the left Riemann sum\n",
    "total_area_left_riemann = np.sum(concentration[:-1] * dt)\n",
    "\n",
    "# Compute the area of the concentration curve with the right Riemann sum\n",
    "total_area_right_riemann = np.sum(concentration[1:] * dt)\n",
    "\n",
    "print(\n",
    "f\"\"\"\n",
    "Total area under the concentration curve:\n",
    "Left Riemann sum: {total_area_left_riemann:.2f}\n",
    "Right Riemann sum: {total_area_right_riemann:.2f}\n",
    "Trapezoidal rule: {total_area_trapz:.2f}\n",
    "\"\"\"\n",
    ")"
   ]
  },
  {
   "cell_type": "markdown",
   "metadata": {},
   "source": [
    "<div style=\"background-color:#AABAB2; color: black; width:90%; vertical-align: middle; padding:15px; margin: 10px; border-radius: 10px\">\n",
    "<p>\n",
    "\n",
    "### Task 1.2\n",
    "\n",
    "Which integration method is best suited for this dataset? Why?\n",
    "\n",
    "</p>\n",
    "</div>"
   ]
  },
  {
   "cell_type": "markdown",
   "metadata": {},
   "source": [
    "<div style=\"background-color:#AABAB2; color: black; width:90%; vertical-align: middle; padding:15px; margin: 10px; border-radius: 10px\">\n",
    "<p>\n",
    "\n",
    "### Task 1.3\n",
    "\n",
    "Compute the discharge based on the concentration data.\n",
    "\n",
    "</p>\n",
    "</div>"
   ]
  },
  {
   "cell_type": "code",
   "execution_count": null,
   "metadata": {
    "tags": [
     "solution"
    ]
   },
   "outputs": [],
   "source": [
    "mass = 3\n",
    "discharge = mass / total_area_trapz\n",
    "print(discharge)"
   ]
  },
  {
   "cell_type": "markdown",
   "metadata": {},
   "source": [
    "To model the concentration curve, we fitted an analytical solution of the advection-dispersion-equation to the concentration data.\n",
    "As a consistency if the model is a good approximation to the data, we want to compare the area under the simulated concentration curve to the area under the curve obtained with measurements."
   ]
  },
  {
   "cell_type": "code",
   "execution_count": null,
   "metadata": {},
   "outputs": [],
   "source": [
    "# You do not need to change anything in this cell\n",
    "\n",
    "def advection_dispersion(t, x, v, D, m, A):\n",
    "    \"Compute the solution to the advection-dispersion equation\"\n",
    "    solution = (\n",
    "        m / (A * v)\n",
    "        * x / (np.sqrt(4 * np.pi * D * t**3))\n",
    "        * np.exp(-((x - v * t) ** 2) / (4 * D * t))\n",
    "    )\n",
    "    return np.where(t > 0, solution, 0)\n",
    "\n",
    "# Fit the model to the data to obtain the parameters v, D and A\n",
    "x = 20\n",
    "f = lambda time, v, D, A: advection_dispersion(time, x, v, D, mass, A)\n",
    "popt, pcov = curve_fit(\n",
    "    f, xdata=time, ydata=concentration, p0=(0.2, 0.1, 1), bounds=(0, np.inf)\n",
    ")\n",
    "v, D, A = popt\n",
    "\n",
    "# Plot the fitted curve along with the data\n",
    "time_grid = np.linspace(0, time[-1], 100)\n",
    "c_analytical = advection_dispersion(time_grid, x, v, D, mass, A)\n",
    "plt.plot(time_grid, c_analytical, label=\"simulation\")\n",
    "plt.scatter(time, concentration, label=\"measurements\")\n",
    "plt.xlabel(\"time [s]\")\n",
    "plt.ylabel(\"concentration [mg/L]\")\n",
    "plt.legend()"
   ]
  },
  {
   "cell_type": "markdown",
   "metadata": {},
   "source": [
    "\n",
    "\n",
    "<div style=\"background-color:#AABAB2; color: black; width:90%; vertical-align: middle; padding:15px; margin: 10px; border-radius: 10px\">\n",
    "<p>\n",
    "\n",
    "**Task 1.**\n",
    "    \n",
    "Evaluate the integral of the simulated concentration curve from time 0 to x seconds, using Simpson's rule.\n",
    "Observe how the result changes with different numbers of integration intervals.\n",
    "</p>\n",
    "</div>"
   ]
  },
  {
   "cell_type": "code",
   "execution_count": null,
   "metadata": {
    "tags": [
     "solution"
    ]
   },
   "outputs": [],
   "source": [
    "# Integrate the concentration curve with Simpson's rule\n",
    "intervals = np.arange(2, 50, step=2)\n",
    "integrals = []\n",
    "for n_intervals in intervals:\n",
    "    t_end = time[-1]\n",
    "    dt = t_end / n_intervals\n",
    "    t = np.linspace(0, t_end, n_intervals+1)\n",
    "    f_evaluated = advection_dispersion(t, x, v, D, mass, A)\n",
    "    terms = [\n",
    "        (f_evaluated[2 * i - 2] + 4 * f_evaluated[2 * i - 1] + f_evaluated[2 * i]) / 6 * 2 * dt\n",
    "        for i in range(1, n_intervals // 2 + 1)\n",
    "    ]\n",
    "    integral = sum(terms)\n",
    "    integrals.append(integral)"
   ]
  },
  {
   "cell_type": "code",
   "execution_count": null,
   "metadata": {},
   "outputs": [],
   "source": [
    "plt.plot(intervals, integrals, marker=\"o\")\n",
    "plt.xlabel(\"Nr. of integration intervals\")\n",
    "plt.ylabel(\"area under the curve\");"
   ]
  },
  {
   "cell_type": "markdown",
   "metadata": {},
   "source": [
    "## Part 2: Taylor series approximation\n",
    "\n",
    "Taylor series are a powerful tool to approximate functions.\n",
    "Throughout this week’s chapter in the text book, you have seen how Taylor series can be used to derive numerical approximations for derivatives and estimate the errors of numerical integration and differentiation techniques.\n",
    "\n",
    "In this assignment, we will have a closer look at how this approximation works.\n",
    "The visualizations you creat will hopefully help you to build some intuition for the meaning of a Taylor series.\n",
    "\n",
    "We will approximate the natural logarithm by a number of Taylor polynomials of increasing order.\n",
    "\n",
    "<div style=\"background-color:#AABAB2; color: black; width:90%; vertical-align: middle; padding:15px; margin: 10px; border-radius: 10px\">\n",
    "<p>\n",
    "\n",
    "**Task 2.1**\n",
    "\n",
    "This is a pen-and-paper exercise. Write down the terms first four terms of the Taylor series around $x_0=1$ for\n",
    "\n",
    "$$f(x) = \\ln(x)$$\n",
    "</p>\n",
    "</div>\n",
    "\n",
    "<div style=\"background-color:#AABAB2; color: black; width:90%; vertical-align: middle; padding:15px; margin: 10px; border-radius: 10px\">\n",
    "<p>\n",
    "\n",
    "\n",
    "**Task 2.2**\n",
    "\n",
    "Before continuing with Taylor series approximation, plot the expression $f(x)=\\ln(x)$ in the interval $[0, 3]$. This will be used as benchmark to assess your approximations. We will want to produce plots that will include each successive term of the Taylor approximation to see how the approximation improves as we include more terms in the Taylor series.\n",
    "\n",
    "</p>\n",
    "</div>"
   ]
  },
  {
   "cell_type": "code",
   "execution_count": null,
   "metadata": {},
   "outputs": [],
   "source": [
    "x = np.linspace(0, 3, 200)\n",
    "\n",
    "def f(x):\n",
    "    return np.log(x)\n",
    "\n",
    "plt.plot(x, f(x))\n",
    "plt.xlabel('x')\n",
    "plt.ylabel('f(x)')\n",
    "plt.title(\"Plot of $f(x) = \\\\ln(x)$\");"
   ]
  },
  {
   "cell_type": "markdown",
   "metadata": {},
   "source": [
    "<div style=\"background-color:#AABAB2; color: black; width:90%; vertical-align: middle; padding:15px; margin: 10px; border-radius: 10px\">\n",
    "<p>\n",
    "\n",
    "**Task 2.3**\n",
    "\n",
    "Implement a Python function that evaluats the nth derivative of $\\ln(x)$, so we can use it to compute the Talor polynomial.\n",
    "Complete the function template in the code cell below. \n",
    "\n",
    "</p>\n",
    "</div>"
   ]
  },
  {
   "cell_type": "code",
   "execution_count": null,
   "metadata": {
    "tags": [
     "solution"
    ]
   },
   "outputs": [],
   "source": [
    "import math\n",
    "\n",
    "def fn(x, n):\n",
    "    \"\"\"Compute the nth derivative of ln(x) at point x\"\"\"\n",
    "    return (-1)**(n+1) * math.factorial(n-1) * x**(-n)"
   ]
  },
  {
   "cell_type": "markdown",
   "metadata": {},
   "source": [
    "<div style=\"background-color:#AABAB2; color: black; width:90%; vertical-align: middle; padding:15px; margin: 10px; border-radius: 10px\">\n",
    "<p>\n",
    "\n",
    "**Task 2.4**\n",
    "\n",
    "Define the expansion point $x_0$ in Python and provide Python expressions for the Taylor polynomials of first, second, third and fourth order.\n",
    "\n",
    "</p>\n",
    "</div>"
   ]
  },
  {
   "cell_type": "code",
   "execution_count": null,
   "metadata": {
    "tags": [
     "assignment"
    ]
   },
   "outputs": [],
   "source": [
    "x0 = # YOUR_CODE_HERE\n",
    "taylor_1 = # YOUR_CODE_HERE\n",
    "taylor_2 = # YOUR_CODE_HERE\n",
    "taylor_3 = # YOUR_CODE_HERE\n",
    "taylor_4 = # YOUR_CODE_HERE"
   ]
  },
  {
   "cell_type": "code",
   "execution_count": null,
   "metadata": {
    "tags": [
     "solution"
    ]
   },
   "outputs": [],
   "source": [
    "x0 = 1\n",
    "taylor_1 = f(x0) + fn(x0, 1) * (x - x0)\n",
    "taylor_2 = taylor_1 + fn(x0, 2) * (x - x0) ** 2 / math.factorial(2)\n",
    "taylor_3 = taylor_2 + fn(x0, 3) * (x - x0) ** 3 / math.factorial(3)\n",
    "taylor_4 = taylor_3 + fn(x0, 4) * (x - x0) ** 4 / math.factorial(4)"
   ]
  },
  {
   "cell_type": "markdown",
   "metadata": {},
   "source": [
    "<div style=\"background-color:#AABAB2; color: black; width:90%; vertical-align: middle; padding:15px; margin: 10px; border-radius: 10px\">\n",
    "<p>\n",
    "\n",
    "**Task 2.5**\n",
    "\n",
    "Fill in the code below to plot the function $f(x)$ along with the Taylor polynomials of increasing order.\n",
    "\n",
    "</p>\n",
    "</div>"
   ]
  },
  {
   "cell_type": "code",
   "execution_count": null,
   "metadata": {
    "tags": [
     "solution"
    ]
   },
   "outputs": [],
   "source": [
    "plt.plot(x, f(x), label=\"$f(x) = \\\\ln(x)$\", color=\"k\")\n",
    "plt.plot(x, taylor_1, label=\"First Order\", color=\"C0\")\n",
    "plt.plot(x, taylor_2, label=\"Second Order\", color=\"C1\")\n",
    "plt.plot(x, taylor_3, label=\"Third Order\", color=\"C2\")\n",
    "plt.plot(x, taylor_4, label=\"Fourth Order\", color=\"C3\")\n",
    "\n",
    "\n",
    "plt.scatter(\n",
    "    [x0], [f(x0)], color=\"k\", marker=\"o\", label=f\"Expansion Point ($x = {x0:0.2f}$)\"\n",
    ")\n",
    "\n",
    "plt.xlabel(\"x\")\n",
    "plt.ylabel(\"$f(x)$\")\n",
    "plt.title(\"Taylor polynomials of $f(x) = \\\\ln(x)$\")\n",
    "plt.legend()"
   ]
  },
  {
   "cell_type": "markdown",
   "metadata": {},
   "source": [
    "<div style=\"background-color:#AABAB2; color: black; width:90%; vertical-align: middle; padding:15px; margin: 10px; border-radius: 10px\">\n",
    "<p>\n",
    "\n",
    "**Task 2.6**\n",
    "\n",
    "Look at the plot you just created. Which Taylor polynomial approximates the function $f(x)$ the best? How does depend on the distance from the expansion point $x_0$?\n",
    "\n",
    "</p>\n",
    "</div>\n",
    "\n",
    "To further analyze the error introduced by truncating the Taylor series, we can evaluate the absolute difference between the function $f(x)$ and the Taylor polynomials:\n",
    "\n",
    "$$\\text{error} =|f(x)-T_n|\\,,$$\n",
    "\n",
    "where $T_n$ refers to the Taylor polynomial of $n$th order.\n",
    "\n",
    "<div style=\"background-color:#AABAB2; color: black; width:90%; vertical-align: middle; padding:15px; margin: 10px; border-radius: 10px\">\n",
    "<p>\n",
    "\n",
    "**Task 2.7**\n",
    "\n",
    "Use your Taylor series approximations and the analytic expression for $f(x)$ to determine the absolute error. Plot the error against $x$ and vary the $x$- and $y$-limits. Are the larger orders Taylor polynomials always more accurate? \n",
    "\n",
    "</p>\n",
    "</div>"
   ]
  },
  {
   "cell_type": "code",
   "execution_count": null,
   "metadata": {
    "tags": [
     "solution"
    ]
   },
   "outputs": [],
   "source": [
    "error_1 = np.abs(f(x) - taylor_1)\n",
    "error_2 = np.abs(f(x) - taylor_2)\n",
    "error_3 = np.abs(f(x) - taylor_3)\n",
    "error_4 = np.abs(f(x) - taylor_4)\n",
    "\n",
    "plt.plot(x, error_1, label=\"First Order\", color=\"C0\")\n",
    "plt.plot(x, error_2, label=\"Second Order\", color=\"C1\")\n",
    "plt.plot(x, error_3, label=\"Third Order\", color=\"C2\")\n",
    "plt.plot(x, error_4, label=\"Fourth Order\", color=\"C3\")\n",
    "\n",
    "plt.xlabel(\"x\")\n",
    "plt.ylabel(\"Absolute Error: $f(x)-\\\\mathrm{Taylor~polynomial}$\")\n",
    "plt.title(\"Absolute Error of Taylor Series Approximations\")\n",
    "plt.legend()"
   ]
  },
  {
   "cell_type": "markdown",
   "metadata": {},
   "source": [
    "## Part 3: Deriving numerical derivatives from Taylor series expansions\n",
    "\n",
    "After we had a closer look at the meaning of Taylor series, you will now practice how you can apply Taylor series to derive expressions for numerical derivatives.\n",
    "\n",
    "<div style=\"background-color:#AABAB2; color: black; width:90%; vertical-align: middle; padding:15px; margin: 10px; border-radius: 10px\">\n",
    "<p>\n",
    "\n",
    "**Task 3.1**\n",
    "    \n",
    "Derive the backward difference method such that it is *second order* accurate. Refer to the book for an illustration of this approach with first order accuracy. Insert an image of your math below.\n",
    "\n",
    "*You don't have to further use the result in this assignment, but it is useful to understand the approach and preparing for the exam.*\n",
    "\n",
    "Tips:\n",
    "- You will have to combine Taylor series expansions for the function at two different points.\n",
    "- At what order do you need to truncate the Taylor series to get a second order accurate method?    \n",
    "</p>\n",
    "</div>"
   ]
  },
  {
   "cell_type": "markdown",
   "metadata": {},
   "source": [
    "<div style=\"background-color:#FAE99E; color: black; vertical-align: middle; padding:15px; margin: 10px; border-radius: 10px; width: 90%\">\n",
    "<p>\n",
    "\n",
    "**Solution 3.1**\n",
    "    \n",
    "For backward euler we need to evaluate at $x_{i−1}$ and $x_{i−2}$ around $x_i$. This yields the following Taylor approximation:\n",
    "    \n",
    "$$f(x_{i-1})\\approx f(x_{i})+(x_{i-1}-x_i)\\frac{\\partial f(x_{i})}{\\partial x} +\\frac{(x_{i-1}-x_i)^2}{2}\\frac{\\partial^2 f(x_i)}{\\partial x^2}+\\mathcal{O}(x_{i-1}-x_i)^3$$\n",
    "$$f(x_{i-2})\\approx f(x_{i})+(x_{i-2}-x_i)\\frac{\\partial f(x_{i})}{\\partial x} +\\frac{(x_{i-2}-x_i)^2}{2}\\frac{\\partial^2 f(x_i)}{\\partial x^2}+\\mathcal{O}(x_{i-2}-x_i)^3$$\n",
    "\n",
    "    \n",
    "We set $\\Delta x = x_i - x_{i-1}$ for all $i$, which also means: $2\\Delta x = x_i-x_{i-2}$\n",
    "    \n",
    "$$f(x_{i-1})\\approx f(x_{i})-\\Delta x\\frac{\\partial f(x_{i})}{\\partial x} +\\frac{\\Delta x^2}{2}\\frac{\\partial^2 f(x_i)}{\\partial x^2}+\\mathcal{O}(\\Delta x)^3$$\n",
    "$$f(x_{i-2})\\approx f(x_{i})-2\\Delta x\\frac{\\partial f(x_{i})}{\\partial x} +\\frac{4\\Delta x^2}{2}\\frac{\\partial^2 f(x_i)}{\\partial x^2}+\\mathcal{O}(\\Delta x)^3$$\n",
    "    \n",
    "To get rid of the term including the second derivative, we multiply the first expression by 4 and subtract the second expression:\n",
    "    \n",
    "$$\n",
    "\\begin{aligned}\n",
    "4f(x_{i-1})-f(x_{i-2})&\\approx (4-1)f(x_{i})-(4-2)\\Delta x\\frac{\\partial f(x_{i})}{\\partial x} + (4-4)\\frac{\\Delta x^2}{2}\\frac{\\partial^2 f(x_i)}{\\partial x^2}+\\mathcal{O}(\\Delta x)^3\\\\\n",
    "&= 3f(x_{i})-2\\Delta x\\frac{\\partial f(x_{i})}{\\partial x} + \\mathcal{O}(\\Delta x)^3\n",
    "\\end{aligned}\n",
    "$$\n",
    "\n",
    "Bring the derivative to the left side and all terms involving $f(x)$ to the right side:\n",
    "$$ 2\\Delta x\\frac{\\partial f(x_{i})}{\\partial x} \\approx 3f(x_i)-4f(x_{i-1})+f(x_{i-2}) +\\mathcal{O}(\\Delta x)^3$$\n",
    "$$\\frac{\\partial f(x_{i})}{\\partial x} \\approx \\frac{3f(x_i)-4f(x_{i-1})+f(x_{i-2})}{2\\Delta x} +\\mathcal{O}(\\Delta x)^2$$\n",
    "\n",
    "</p></div>"
   ]
  },
  {
   "cell_type": "code",
   "execution_count": null,
   "metadata": {},
   "outputs": [],
   "source": [
    "# Provided code which is not to be edited by students\n",
    "import numpy as np"
   ]
  },
  {
   "cell_type": "code",
   "execution_count": null,
   "metadata": {
    "tags": [
     "assignment"
    ]
   },
   "outputs": [],
   "source": [
    "# The code given to students can be indicated with:\n",
    "# with a cell tag `assignment`.\n",
    "# These cells will be removed from the solution notebook.\n",
    "# The assignment notebook will be generated after a push to main and\n",
    "# will be stored on the branch `assignment`.\n",
    "# Places where student should write their code are marked with `### YOUR CODE HERE ###` for filling in a single line\n",
    "# or with `### YOUR CODE LINES HERE` for filling in multiple lines\n",
    "\n",
    "import numpy as np\n",
    "\n",
    "a = [### YOUR CODE HERE ###]\n",
    "    \n",
    "### YOUR CODE LINES HERE\n",
    "\n",
    "print('First 20 fibonacci numbers:', ### YOUR CODE HERE ###)"
   ]
  },
  {
   "cell_type": "markdown",
   "metadata": {},
   "source": [
    "<div style=\"background-color:#FAE99E; color: black; vertical-align: middle; padding:15px; margin: 10px; border-radius: 10px; width: 90%\">\n",
    "\n",
    "$\\text{Solution x.x:}$\n",
    "\n",
    "Having trouble understanding how the Gauss-Newton scheme works? Do you want to visualize how the parameters and model change on each iteration? Try uncommenting the cell below to create an interactive plot!\n",
    "\n",
    "It is set up to visualize the model on each iteration. You can gain insight into the way convergence occurs by changing the value of <code>initial_guess_alternative</code> and rerunning the cell.\n",
    "</p></div>\n",
    "\n",
    "Cells containing a solution block (with color ` #FAE99E`) will be removed in the assignment notebook."
   ]
  },
  {
   "cell_type": "code",
   "execution_count": null,
   "metadata": {
    "tags": [
     "solution"
    ]
   },
   "outputs": [],
   "source": [
    "# Solution code (in a separate cell) is indicated with\n",
    "# a cell tag 'solution'.\n",
    "# These cells will be removed from the assignment notebook.\n",
    "# The assignment notebook will be generated after a push to main and\n",
    "# will be stored on the branch `solution`.\n",
    "\n",
    "a = [0,2]\n",
    "\n",
    "for i in range(2, 20):\n",
    "    a.append(a[i-1] + a[i-2])\n",
    "\n",
    "print('First 20 fibonacci numbers:', a)"
   ]
  },
  {
   "cell_type": "markdown",
   "metadata": {},
   "source": [
    "<div style=\"background-color:#FAE99E; color: black; vertical-align: middle; padding:15px; margin: 10px; border-radius: 10px; width: 90%\">\n",
    "<p>\n",
    "End of solution.\n",
    "</p>\n",
    "</div>\n",
    "\n",
    "Cells containing a solution block (with color ` #FAE99E`) will be removed in the assignment notebook."
   ]
  },
  {
   "cell_type": "markdown",
   "metadata": {},
   "source": [
    "<div style=\"margin-top: 50px; padding-top: 20px; border-top: 1px solid #ccc;\">\n",
    "  <div style=\"display: flex; justify-content: flex-end; gap: 20px; align-items: center;\">\n",
    "    <a rel=\"MUDE\" href=\"http://mude.citg.tudelft.nl/\">\n",
    "      <img alt=\"MUDE\" style=\"width:100px; height:auto;\" src=\"https://gitlab.tudelft.nl/mude/public/-/raw/main/mude-logo/MUDE_Logo-small.png\" />\n",
    "    </a>\n",
    "    <a rel=\"TU Delft\" href=\"https://www.tudelft.nl/en/ceg\">\n",
    "      <img alt=\"TU Delft\" style=\"width:100px; height:auto;\" src=\"https://gitlab.tudelft.nl/mude/public/-/raw/main/tu-logo/TU_P1_full-color.png\" />\n",
    "    </a>\n",
    "    <a rel=\"license\" href=\"http://creativecommons.org/licenses/by/4.0/\">\n",
    "      <img alt=\"Creative Commons License\" style=\"width:88px; height:auto;\" src=\"https://i.creativecommons.org/l/by/4.0/88x31.png\" />\n",
    "    </a>\n",
    "  </div>\n",
    "  <div style=\"font-size: 75%; margin-top: 10px; text-align: right;\">\n",
    "    &copy; Copyright 2025 <a rel=\"MUDE\" href=\"http://mude.citg.tudelft.nl/\">MUDE</a> TU Delft. \n",
    "    This work is licensed under a <a rel=\"license\" href=\"http://creativecommons.org/licenses/by/4.0/\">CC BY 4.0 License</a>.\n",
    "  </div>\n",
    "</div>"
   ]
  }
 ],
 "metadata": {
  "kernelspec": {
   "display_name": "mude-base",
   "language": "python",
   "name": "python3"
  },
  "language_info": {
   "codemirror_mode": {
    "name": "ipython",
    "version": 3
   },
   "file_extension": ".py",
   "mimetype": "text/x-python",
   "name": "python",
   "nbconvert_exporter": "python",
   "pygments_lexer": "ipython3",
   "version": "3.12.5"
  }
 },
 "nbformat": 4,
 "nbformat_minor": 4
}
