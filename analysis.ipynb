{
 "cells": [
  {
   "cell_type": "markdown",
   "metadata": {},
   "source": [
    "# Group assignment 1.2: Numerical integration and Taylor series approximations\n",
    "\n",
    "*[CEGM1000 MUDE](http://mude.citg.tudelft.nl/)*\n",
    "\n",
    "*Written by: Anna Störiko, Ronald Brinkgeve*\n",
    "\n",
    "*Due: Friday, September 12, 2025*"
   ]
  },
  {
   "cell_type": "markdown",
   "metadata": {},
   "source": [
    "## Part 1: Discharge estimation and numerical integration\n",
    "\n",
    "In many hydrological and engineering applications, it is important to know how much water flows through a river or stream.\n",
    "In small rivers, a simple method to estimate the discharge is so called dilution gauging.\n",
    "In this method, a known amount of salt is added to the river and the concentration of the salt is measured downstream.\n",
    "\n",
    "<center><img src=\"https://files.mude.citg.tudelft.nl/dilution_gauging.svg\" width=\"50%\"/></center>\n",
    "\n",
    "Based on a mass balance, the discharge $Q$ [$\\mathrm{L}^3 \\mathrm{T}^{-1}$] can then be estimated from the injected mass $m [\\mathrm{M}]$ and the area under the concentration curve $A$:\n",
    "\n",
    "$$Q = \\frac{m}{A} = \\frac{m}{\\int_0^{t_{\\text{end}}} c(t) dt}$$\n",
    "\n",
    "where $c(t) [\\mathrm{M} \\mathrm{L}^{-3}]$ is the concentration of salt in the river above the baseline level at time $t$ and $t_{\\text{end}}$ is the end time of the measurement, well after the concentration returned to its baseline value.\n",
    "\n",
    "The plot below shows such a concentration curve. In this assignment, you will determine the discharge based on this curve.\n",
    "To evaluate the integral under the curve from the discrete measurements, you will have to use numerical integration techniques."
   ]
  },
  {
   "cell_type": "code",
   "execution_count": null,
   "metadata": {},
   "outputs": [],
   "source": [
    "import math\n",
    "import numpy as np\n",
    "import matplotlib.pyplot as plt\n",
    "from scipy.optimize import curve_fit\n",
    "\n",
    "# time in seconds\n",
    "time = np.array([  0.,  10.,  20.,  30.,  41.,  50.,  60.,  70.,  78.,  90., 100.,\n",
    "       110., 120., 130., 140., 150., 170., 180., 190., 200.])\n",
    "# concentrations in g/L\n",
    "concentration = np.array([0, 0.02, 0.1, 0.4, 0.7, 0.6, 0.4, 0.3, 0.22,\n",
    "        0.18, 0.15, 0.12, 0.1, 0.08, 0.06, 0.04, 0.01, 0, 0, 0])\n",
    "plt.plot(time, concentration, marker=\"o\")\n",
    "plt.ylabel(\"Concentration [g/L]\")\n",
    "plt.xlabel(\"Time [s]\")"
   ]
  },
  {
   "cell_type": "markdown",
   "metadata": {},
   "source": [
    "### Numerical integration of the concentration curve\n",
    "\n",
    "<div style=\"background-color:#AABAB2; color: black; width:90%; vertical-align: middle; padding:15px; margin: 10px; border-radius: 10px\">\n",
    "<p>\n",
    "\n",
    "**Task 1.1**\n",
    "\n",
    "Compute the area under the concentration curve by numerical integration. Compare two numerical integration methods of your choice.\n",
    "\n",
    "</p>\n",
    "</div>"
   ]
  },
  {
   "cell_type": "code",
   "execution_count": null,
   "metadata": {
    "tags": [
     "assignment"
    ]
   },
   "outputs": [],
   "source": [
    "# Compute the time difference between two consecutive points\n",
    "dt = np.diff(time)\n",
    "\n",
    "### YOUR CODE LINES HERE"
   ]
  },
  {
   "cell_type": "code",
   "execution_count": null,
   "metadata": {
    "tags": [
     "solution"
    ]
   },
   "outputs": [],
   "source": [
    "# Compute the time difference between two consecutive points\n",
    "dt = np.diff(time)\n",
    "\n",
    "# Compute the area of the concentration curve with the trapezoidal rule\n",
    "trapezoid_areas = (concentration[:-1] + concentration[1:]) / 2 * dt\n",
    "total_area_trapz = np.sum(trapezoid_areas)\n",
    "\n",
    "# Compute the area of the concentration curve with the left Riemann sum\n",
    "total_area_left_riemann = np.sum(concentration[:-1] * dt)\n",
    "\n",
    "# Compute the area of the concentration curve with the right Riemann sum\n",
    "total_area_right_riemann = np.sum(concentration[1:] * dt)\n",
    "\n",
    "print(\n",
    "f\"\"\"\n",
    "Total area under the concentration curve:\n",
    "Left Riemann sum: {total_area_left_riemann:.2f} g/L s\n",
    "Right Riemann sum: {total_area_right_riemann:.2f} g/L s\n",
    "Trapezoidal rule: {total_area_trapz:.2f} g/L s\n",
    "\"\"\"\n",
    ")"
   ]
  },
  {
   "cell_type": "markdown",
   "metadata": {},
   "source": [
    "<div style=\"background-color:#AABAB2; color: black; width:90%; vertical-align: middle; padding:15px; margin: 10px; border-radius: 10px\">\n",
    "<p>\n",
    "\n",
    "**Task 1.2**\n",
    "\n",
    "Which integration method is best suited for this dataset? Why?\n",
    "\n",
    "</p>\n",
    "</div>"
   ]
  },
  {
   "cell_type": "markdown",
   "metadata": {},
   "source": [
    "<div style=\"background-color:#FAE99E; color: black; vertical-align: middle; padding:15px; margin: 10px; border-radius: 10px; width: 90%\">\n",
    "\n",
    "**Solution 1.2**\n",
    "\n",
    "For the dataset, the trapezoidal rule is suitable integration technique.\n",
    "For a given number of integration points, it (theoretically) has a lower error compared to the left and right Riemann sum.\n",
    "\n",
    "While Simpson's rule would have an even lower error, it requires equally spaced measurement intervals which are not available for this data set.\n",
    "The error of the midpoint rule scales the same with the number of integration intervals as for the trapezoidal rule, but it requires evaluating the function at the midpoint of each interval. This is not possible with fixed measurements.\n",
    "</p></div>"
   ]
  },
  {
   "cell_type": "markdown",
   "metadata": {},
   "source": [
    "<div style=\"background-color:#AABAB2; color: black; width:90%; vertical-align: middle; padding:15px; margin: 10px; border-radius: 10px\">\n",
    "<p>\n",
    "\n",
    "**Task 1.3**\n",
    "\n",
    "Compute the discharge based on the concentration data. The amounf of salt used tracer test is 100 g.\n",
    "\n",
    "</p>\n",
    "</div>"
   ]
  },
  {
   "cell_type": "code",
   "execution_count": null,
   "metadata": {
    "tags": [
     "assignment"
    ]
   },
   "outputs": [],
   "source": [
    "### YOUR CODE LINES HERE"
   ]
  },
  {
   "cell_type": "code",
   "execution_count": null,
   "metadata": {
    "tags": [
     "solution"
    ]
   },
   "outputs": [],
   "source": [
    "mass = 200 # g\n",
    "discharge = mass / total_area_trapz # g / (g/L * s)\n",
    "print(f\"{discharge:.2f} L/s\")"
   ]
  },
  {
   "cell_type": "markdown",
   "metadata": {},
   "source": [
    "### Comparison of simulated and measured concentrations\n",
    "\n",
    "To model the concentration curve, we fitted an analytical solution of the advection-dispersion-equation to the concentration data.\n",
    "As a consistency if the model is a good approximation to the data, we want to compare the area under the simulated concentration curve to the area under the curve obtained with measurements."
   ]
  },
  {
   "cell_type": "code",
   "execution_count": null,
   "metadata": {},
   "outputs": [],
   "source": [
    "# You do not need to change anything in this cell\n",
    "\n",
    "def advection_dispersion(t, x, v, D, m, A):\n",
    "    \"\"\"Compute the solution to the advection-dispersion equation\"\"\"\n",
    "    def scalar(tt):\n",
    "        \"\"\"Piecewise definition for a single time point\"\"\"\n",
    "        # For t=0, return the initial value\n",
    "        if tt <= 0:\n",
    "            return 0.0\n",
    "        # Otherwise, compute the anaytical solution\n",
    "        return (\n",
    "            m / (A * v)\n",
    "            * x / (np.sqrt(4 * np.pi * D * tt**3))\n",
    "            * np.exp(-((x - v * tt) ** 2) / (4 * D * tt))\n",
    "        ) / 1000 # convert from g/m³ to g/L\n",
    "\n",
    "    f = np.vectorize(scalar, otypes=[float])\n",
    "    return f(t)\n",
    "\n",
    "\n",
    "# Fit the model to the data to obtain the parameters v, D and A\n",
    "x = 20  # m\n",
    "f = lambda time, v, D, A: advection_dispersion(time, x, v, D, mass, A)\n",
    "popt, pcov = curve_fit(\n",
    "    f, xdata=time, ydata=concentration, p0=(0.2, 1, 0.5), bounds=(0, np.inf)\n",
    ")\n",
    "v, D, area = popt  # units: m/s, m²/s, m²\n",
    "\n",
    "# Plot the fitted curve along with the data\n",
    "time_grid = np.linspace(0, time[-1], 100)\n",
    "c_analytical = advection_dispersion(time_grid, x, v, D, mass, area)\n",
    "plt.plot(time_grid, c_analytical, label=\"simulation\")\n",
    "plt.scatter(time, concentration, label=\"measurements\")\n",
    "plt.xlabel(\"time [s]\")\n",
    "plt.ylabel(\"concentration [g/L]\")\n",
    "plt.legend()"
   ]
  },
  {
   "cell_type": "markdown",
   "metadata": {},
   "source": [
    "\n",
    "\n",
    "<div style=\"background-color:#AABAB2; color: black; width:90%; vertical-align: middle; padding:15px; margin: 10px; border-radius: 10px\">\n",
    "<p>\n",
    "\n",
    "**Task 1.4**\n",
    "    \n",
    "Evaluate the integral of the simulated concentration curve from time 0 to 200 seconds, using Simpson's rule.\n",
    "\n",
    "Vary the number of integration intervals from 2 to 50. Why does the number of integration intervals have to be an even number?\n",
    "\n",
    "Observe how the result changes with different numbers of integration intervals.\n",
    "</p>\n",
    "</div>"
   ]
  },
  {
   "cell_type": "code",
   "execution_count": null,
   "metadata": {
    "tags": [
     "solution"
    ]
   },
   "outputs": [],
   "source": [
    "# Create an array of the number of integration intervals to test\n",
    "intervals = np.arange(2, 50, step=2)\n",
    "# Initialize a list to save the value of the integral for each number\n",
    "#  of integration intervals\n",
    "integrals = []\n",
    "for n_intervals in intervals:\n",
    "    # Compute the interval length\n",
    "    t_end = time[-1]\n",
    "    dt = t_end / n_intervals\n",
    "    # Evaluate the function at the required time points\n",
    "    t = np.linspace(0, t_end, n_intervals+1)\n",
    "    f_evaluated = advection_dispersion(t, x, v, D, mass, area)\n",
    "    # Integrate the concentration curve with Simpson's rule\n",
    "    terms = [\n",
    "        (f_evaluated[2 * i - 2] + 4 * f_evaluated[2 * i - 1] + f_evaluated[2 * i]) / 6 * 2 * dt\n",
    "        for i in range(1, n_intervals // 2 + 1)\n",
    "    ]\n",
    "    integral = sum(terms)\n",
    "    # Save the value of the integral in the list\n",
    "    integrals.append(integral)"
   ]
  },
  {
   "cell_type": "code",
   "execution_count": null,
   "metadata": {
    "tags": [
     "assignment"
    ]
   },
   "outputs": [],
   "source": [
    "# Create an array of the number of integration intervals to test\n",
    "intervals = np.arange(### YOUR CODE HERE### )\n",
    "# Initialize a list to save the value of the integral for each number\n",
    "#  of integration intervals\n",
    "integrals = []\n",
    "for n_intervals in intervals:\n",
    "    # Compute the interval length\n",
    "    t_end = time[-1]\n",
    "    dt = ### YOUR CODE HERE ###\n",
    "    # Evaluate the function at the required time points\n",
    "    t = np.linspace(0, t_end, n_intervals+1)\n",
    "    f_evaluated = ### YOUR CODE HERE ###\n",
    "    # Integrate the concentration curve with Simpson's rule\n",
    "    integral = ### YOUR CODE LINES HERE ###\n",
    "    # Save the value of the integral in the list\n",
    "    integrals.append(integral)"
   ]
  },
  {
   "cell_type": "code",
   "execution_count": null,
   "metadata": {},
   "outputs": [],
   "source": [
    "plt.plot(intervals, integrals, marker=\"o\")\n",
    "plt.xlabel(\"Nr. of integration intervals\")\n",
    "plt.ylabel(\"area under the curve\");"
   ]
  },
  {
   "cell_type": "markdown",
   "metadata": {},
   "source": [
    "\n",
    "\n",
    "<div style=\"background-color:#AABAB2; color: black; width:90%; vertical-align: middle; padding:15px; margin: 10px; border-radius: 10px\">\n",
    "<p>\n",
    "\n",
    "**Task 1.5**\n",
    "    \n",
    "Compare the integral of the simulated concentrations with the integral of the measurements. Are the areas approximately the same?\n",
    "</p>\n",
    "</div>"
   ]
  },
  {
   "cell_type": "markdown",
   "metadata": {},
   "source": [
    "<div style=\"background-color:#FAE99E; color: black; vertical-align: middle; padding:15px; margin: 10px; border-radius: 10px; width: 90%\">\n",
    "<p>\n",
    "\n",
    "**Solution 1.5**\n",
    "\n",
    "The numerical integral of the measured curve is approximately 34.8, whereas the integral of the simulated curve is approximately 32.8.\n",
    "Thus, the mass captured by the simulation is close to, but slightly less than the mass captured through measureents.\n",
    "One reason for this mismatch is that the simulated curve does not exactly fit the shape of the measured curve\n",
    "\n",
    "</p>\n",
    "</div>"
   ]
  },
  {
   "cell_type": "markdown",
   "metadata": {},
   "source": [
    "## Part 2: Taylor series approximation\n",
    "\n",
    "Taylor series are a powerful tool to approximate functions.\n",
    "Throughout this week’s chapter in the text book, you have seen how Taylor series can be used to derive numerical approximations for derivatives and estimate the errors of numerical integration and differentiation techniques.\n",
    "\n",
    "In the following exercies, we will have a closer look at how this approximation works.\n",
    "The visualizations you create will hopefully help you to build some intuition for the meaning of a Taylor series.\n",
    "\n",
    "We will approximate the natural logarithm by a number of Taylor polynomials of increasing order.\n",
    "\n",
    "### Analytical expression\n",
    "\n",
    "<div style=\"background-color:#AABAB2; color: black; width:90%; vertical-align: middle; padding:15px; margin: 10px; border-radius: 10px\">\n",
    "<p>\n",
    "\n",
    "**Task 2.1**\n",
    "\n",
    "This is a pen-and-paper exercise. Write down the terms first four terms of the Taylor series for $f(x) = \\ln(x)$ around $x_0=1$.\n",
    "\n",
    "</p>\n",
    "</div>"
   ]
  },
  {
   "cell_type": "markdown",
   "metadata": {},
   "source": [
    "<div style=\"background-color:#FAE99E; color: black; vertical-align: middle; padding:15px; margin: 10px; border-radius: 10px; width: 90%\">\n",
    "<p>\n",
    "\n",
    "**Solution 2.1**\n",
    "\n",
    "The first four derivatives of $f(x) = \\ln(x)$ are:\n",
    "$$f^\\prime(x) = \\frac{1}{x}$$\n",
    "$$f^{\\prime\\prime}(x) = -\\frac{1}{x^2}$$\n",
    "$$f^{\\prime\\prime\\prime}(x) = \\frac{2}{x^3}$$\n",
    "$$f^{\\prime\\prime\\prime\\prime}(x) = -\\frac{6}{x^4}$$\n",
    "\n",
    "In general,the $n$ th derivative is:\n",
    "$$f^{(n)}(x) = (-1)^{n+1} (n-1)! \\,x^{-n}$$\n",
    "\n",
    "If we evaluate the derivative at $x_0=1$, we obtain:\n",
    "\n",
    "$$f^\\prime(1) = 1$$\n",
    "$$f^{\\prime\\prime}(1) = -1$$\n",
    "$$f^{\\prime\\prime\\prime}(1) = 2$$\n",
    "$$f^{\\prime\\prime\\prime\\prime}(1) = -6$$\n",
    "\n",
    "The first four terms of the Taylor series around $x_0=1$ are:\n",
    "\n",
    "$$\n",
    "\\begin{aligned}\n",
    "f(x) &=  f(x_0) + (x-x_0)f'(x_0)+\\frac{(x-x_0)^2}{2!}f''(x_0)+ \\frac{(x-x_0)^3}{3!} f'''(x_0)+ \\frac{(x-x_0)^4}{4!} f''''(x_0)+ ...\\\\\n",
    "&= 0 + (x-1) \\cdot 1 + \\frac{(x-1)^2}{2!}\\cdot (-1) + \\frac{(x-1)^3}{3!}\\cdot 2 + \\frac{(x-1)^4}{4!}\\cdot (-6) + \\dots\\\\\n",
    "&= (x-1) - \\frac{(x-1)^2}{2} + \\frac{(x-1)^3}{3} - \\frac{(x-1)^4}{4} + \\dots\n",
    "\\end{aligned}\n",
    "$$\n",
    "\n",
    "</p>\n",
    "</div>"
   ]
  },
  {
   "cell_type": "markdown",
   "metadata": {},
   "source": [
    "### Plotting the Taylor polynomials"
   ]
  },
  {
   "cell_type": "markdown",
   "metadata": {},
   "source": [
    "<div style=\"background-color:#AABAB2; color: black; width:90%; vertical-align: middle; padding:15px; margin: 10px; border-radius: 10px\">\n",
    "<p>\n",
    "\n",
    "**Task 2.2**\n",
    "\n",
    "Before continuing with Taylor series approximation, plot the expression $f(x)=\\ln(x)$ in the interval $[0, 3]$. This will be used as benchmark to assess your approximations. We will want to produce plots that will include each successive term of the Taylor approximation to see how the approximation improves as we include more terms in the Taylor series.\n",
    "\n",
    "</p>\n",
    "</div>"
   ]
  },
  {
   "cell_type": "code",
   "execution_count": null,
   "metadata": {
    "tags": [
     "assignment"
    ]
   },
   "outputs": [],
   "source": [
    "x = np.linspace(### YOUR CODE HERE ###, num=200)\n",
    "\n",
    "def f(x):\n",
    "    return ### YOUR CODE HERE ###\n",
    "\n",
    "plt.plot(x, f(x))\n",
    "plt.xlabel('x')\n",
    "plt.ylabel('f(x)')\n",
    "plt.title(\"Plot of $f(x) = \\\\ln(x)$\");"
   ]
  },
  {
   "cell_type": "code",
   "execution_count": null,
   "metadata": {
    "tags": [
     "solution"
    ]
   },
   "outputs": [],
   "source": [
    "x = np.linspace(0, 3, num=200)\n",
    "\n",
    "def f(x):\n",
    "    return np.log(x)\n",
    "\n",
    "plt.plot(x, f(x))\n",
    "plt.xlabel('x')\n",
    "plt.ylabel('f(x)')\n",
    "plt.title(\"Plot of $f(x) = \\\\ln(x)$\");"
   ]
  },
  {
   "cell_type": "markdown",
   "metadata": {},
   "source": [
    "<div style=\"background-color:#AABAB2; color: black; width:90%; vertical-align: middle; padding:15px; margin: 10px; border-radius: 10px\">\n",
    "<p>\n",
    "\n",
    "**Task 2.3**\n",
    "\n",
    "Implement a Python function that evaluats the nth derivative of $\\ln(x)$ (at least up to $n=4$), so we can use it to compute the Talor polynomial.\n",
    "Complete the function template in the code cell below.\n",
    "\n",
    "Tip: to compute the factorial, you can use the function `math.factorial` from the Python standard library.\n",
    "\n",
    "</p>\n",
    "</div>"
   ]
  },
  {
   "cell_type": "code",
   "execution_count": null,
   "metadata": {
    "tags": [
     "assignment"
    ]
   },
   "outputs": [],
   "source": [
    "def fn(x, n):\n",
    "    \"\"\"Compute the nth derivative of ln(x) at point x\"\"\"\n",
    "    ### YOUR CODE (LINES) HERE\n",
    "    return ### YOUR CODE HERE ###"
   ]
  },
  {
   "cell_type": "code",
   "execution_count": null,
   "metadata": {
    "tags": [
     "solution"
    ]
   },
   "outputs": [],
   "source": [
    "def fn(x, n):\n",
    "    \"\"\"Compute the nth derivative of ln(x) at point x\"\"\"\n",
    "    return (-1)**(n+1) * math.factorial(n-1) * x**(-n)"
   ]
  },
  {
   "cell_type": "markdown",
   "metadata": {},
   "source": [
    "<div style=\"background-color:#AABAB2; color: black; width:90%; vertical-align: middle; padding:15px; margin: 10px; border-radius: 10px\">\n",
    "<p>\n",
    "\n",
    "**Task 2.4**\n",
    "\n",
    "Define the expansion point $x_0$ in Python and provide Python expressions for the Taylor polynomials of first, second, third and fourth order.\n",
    "\n",
    "</p>\n",
    "</div>"
   ]
  },
  {
   "cell_type": "code",
   "execution_count": null,
   "metadata": {
    "tags": [
     "assignment"
    ]
   },
   "outputs": [],
   "source": [
    "x0 = # YOUR_CODE_HERE\n",
    "taylor_1 = # YOUR_CODE_HERE\n",
    "taylor_2 = # YOUR_CODE_HERE\n",
    "taylor_3 = # YOUR_CODE_HERE\n",
    "taylor_4 = # YOUR_CODE_HERE"
   ]
  },
  {
   "cell_type": "code",
   "execution_count": null,
   "metadata": {
    "tags": [
     "solution"
    ]
   },
   "outputs": [],
   "source": [
    "x0 = 1\n",
    "taylor_1 = f(x0) + fn(x0, 1) * (x - x0)\n",
    "taylor_2 = taylor_1 + fn(x0, 2) * (x - x0) ** 2 / math.factorial(2)\n",
    "taylor_3 = taylor_2 + fn(x0, 3) * (x - x0) ** 3 / math.factorial(3)\n",
    "taylor_4 = taylor_3 + fn(x0, 4) * (x - x0) ** 4 / math.factorial(4)"
   ]
  },
  {
   "cell_type": "markdown",
   "metadata": {},
   "source": [
    "<div style=\"background-color:#AABAB2; color: black; width:90%; vertical-align: middle; padding:15px; margin: 10px; border-radius: 10px\">\n",
    "<p>\n",
    "\n",
    "**Task 2.5**\n",
    "\n",
    "Fill in the code below to plot the function $f(x)$ along with the Taylor polynomials of increasing order.\n",
    "\n",
    "</p>\n",
    "</div>"
   ]
  },
  {
   "cell_type": "code",
   "execution_count": null,
   "metadata": {
    "tags": [
     "assignment"
    ]
   },
   "outputs": [],
   "source": [
    "# Plot f(x) and the Taylor polynomials\n",
    "plt.plot(x, f(x), label=\"$f(x) = \\\\ln(x)$\", color=\"k\")\n",
    "plt.plot(x, ### YOUR CODE HERE ###, label=\"First Order\", color=\"C0\")\n",
    "plt.plot(x, ### YOUR CODE HERE ###, label=\"Second Order\", color=\"C1\")\n",
    "plt.plot(x, ### YOUR CODE HERE ###, label=\"Third Order\", color=\"C2\")\n",
    "plt.plot(x, ### YOUR CODE HERE ###, label=\"Fourth Order\", color=\"C3\")\n",
    "\n",
    "# Plot the expansion point x0 as a dot\n",
    "plt.scatter(\n",
    "    ### YOUR CODE HERE ###,\n",
    "    ### YOUR CODE HERE ###,\n",
    "    color=\"k\",\n",
    "    marker=\"o\",\n",
    "    label=f\"Expansion Point ($x = {x0:0.2f}$)\"\n",
    ")\n",
    "\n",
    "# Add labels to the plot\n",
    "plt.xlabel(\"x\")\n",
    "plt.ylabel(\"$f(x)$\")\n",
    "plt.title(\"Taylor polynomials of $f(x) = \\\\ln(x)$\")\n",
    "plt.legend()"
   ]
  },
  {
   "cell_type": "code",
   "execution_count": null,
   "metadata": {
    "tags": [
     "solution"
    ]
   },
   "outputs": [],
   "source": [
    "# Plot f(x) and the Taylor polynomials\n",
    "plt.plot(x, f(x), label=\"$f(x) = \\\\ln(x)$\", color=\"k\")\n",
    "plt.plot(x, taylor_1, label=\"First Order\", color=\"C0\")\n",
    "plt.plot(x, taylor_2, label=\"Second Order\", color=\"C1\")\n",
    "plt.plot(x, taylor_3, label=\"Third Order\", color=\"C2\")\n",
    "plt.plot(x, taylor_4, label=\"Fourth Order\", color=\"C3\")\n",
    "\n",
    "# Plot the expansion point x0 as a dot\n",
    "plt.scatter(\n",
    "    [x0], [f(x0)], color=\"k\", marker=\"o\", label=f\"Expansion Point ($x = {x0:0.2f}$)\"\n",
    ")\n",
    "\n",
    "# Add labels to the plot\n",
    "plt.xlabel(\"x\")\n",
    "plt.ylabel(\"$f(x)$\")\n",
    "plt.title(\"Taylor polynomials of $f(x) = \\\\ln(x)$\")\n",
    "plt.legend()"
   ]
  },
  {
   "cell_type": "markdown",
   "metadata": {},
   "source": [
    "<div style=\"background-color:#AABAB2; color: black; width:90%; vertical-align: middle; padding:15px; margin: 10px; border-radius: 10px\">\n",
    "<p>\n",
    "\n",
    "**Task 2.6**\n",
    "\n",
    "Look at the plot you just created. Which Taylor polynomial approximates the function $f(x)$ the best? How does depend on the distance from the expansion point $x_0$?\n",
    "\n",
    "</p>\n",
    "</div>\n",
    "\n",
    "\n",
    "### Absolute error\n",
    "\n",
    "To further analyze the error introduced by truncating the Taylor series, we can evaluate the absolute difference between the function $f(x)$ and the Taylor polynomials:\n",
    "\n",
    "$$\\text{error} =|f(x)-T_n|\\,,$$\n",
    "\n",
    "where $T_n$ refers to the Taylor polynomial of $n$th order.\n",
    "\n",
    "<div style=\"background-color:#AABAB2; color: black; width:90%; vertical-align: middle; padding:15px; margin: 10px; border-radius: 10px\">\n",
    "<p>\n",
    "\n",
    "**Task 2.7**\n",
    "\n",
    "Use your Taylor series approximations and the analytic expression for $f(x)$ to determine the absolute error. Plot the error against $x$ and vary the $x$- and $y$-limits. Are the larger orders Taylor polynomials always more accurate? \n",
    "\n",
    "</p>\n",
    "</div>"
   ]
  },
  {
   "cell_type": "code",
   "execution_count": null,
   "metadata": {
    "tags": [
     "assignment"
    ]
   },
   "outputs": [],
   "source": [
    "# Compute the absolute error\n",
    "error_1 = ### YOUR CODE HERE ###\n",
    "error_2 = ### YOUR CODE HERE ###\n",
    "error_3 = ### YOUR CODE HERE ###\n",
    "error_4 = ### YOUR CODE HERE ###\n",
    "\n",
    "# Plot the absolute error against x\n",
    "plt.plot(x, ### YOUR CODE HERE ###, label=\"First Order\", color=\"C0\")\n",
    "plt.plot(x, ### YOUR CODE HERE ###, label=\"Second Order\", color=\"C1\")\n",
    "plt.plot(x, ### YOUR CODE HERE ###, label=\"Third Order\", color=\"C2\")\n",
    "plt.plot(x, ### YOUR CODE HERE ###, label=\"Fourth Order\", color=\"C3\")\n",
    "\n",
    "# Add labels\n",
    "plt.xlabel(\"x\")\n",
    "plt.ylabel(\"Absolute Error: $f(x)-\\\\mathrm{Taylor~polynomial}$\")\n",
    "plt.title(\"Absolute Error of Taylor Series Approximations\")\n",
    "plt.legend()"
   ]
  },
  {
   "cell_type": "code",
   "execution_count": null,
   "metadata": {
    "tags": [
     "solution"
    ]
   },
   "outputs": [],
   "source": [
    "# Compute the absolute error\n",
    "error_1 = np.abs(f(x) - taylor_1)\n",
    "error_2 = np.abs(f(x) - taylor_2)\n",
    "error_3 = np.abs(f(x) - taylor_3)\n",
    "error_4 = np.abs(f(x) - taylor_4)\n",
    "\n",
    "# Plot the absolute error against x\n",
    "plt.plot(x, error_1, label=\"First Order\", color=\"C0\")\n",
    "plt.plot(x, error_2, label=\"Second Order\", color=\"C1\")\n",
    "plt.plot(x, error_3, label=\"Third Order\", color=\"C2\")\n",
    "plt.plot(x, error_4, label=\"Fourth Order\", color=\"C3\")\n",
    "\n",
    "# Add labels\n",
    "plt.xlabel(\"x\")\n",
    "plt.ylabel(\"Absolute Error: $f(x)-\\\\mathrm{Taylor~polynomial}$\")\n",
    "plt.title(\"Absolute Error of Taylor Series Approximations\")\n",
    "plt.legend()"
   ]
  },
  {
   "cell_type": "markdown",
   "metadata": {},
   "source": [
    "## Part 3: Deriving numerical derivatives from Taylor series expansions\n",
    "\n",
    "After we had a closer look at the meaning of Taylor series, you will now practice how you can apply Taylor series to derive expressions for numerical derivatives.\n",
    "\n",
    "<div style=\"background-color:#AABAB2; color: black; width:90%; vertical-align: middle; padding:15px; margin: 10px; border-radius: 10px\">\n",
    "<p>\n",
    "\n",
    "**Task 3.1**\n",
    "    \n",
    "Derive the backward difference method such that it is *second order* accurate. Refer to the book for an illustration of this approach with first order accuracy. Insert an image of your math below.\n",
    "\n",
    "*You don't have to further use the result in this assignment, but it is useful to understand the approach and prepare for the exam.*\n",
    "\n",
    "Tips:\n",
    "- You will have to combine Taylor series expansions for the function at two different points.\n",
    "- At what order do you need to truncate the Taylor series to get a second order accurate method?    \n",
    "</p>\n",
    "</div>"
   ]
  },
  {
   "cell_type": "markdown",
   "metadata": {},
   "source": [
    "<div style=\"background-color:#FAE99E; color: black; vertical-align: middle; padding:15px; margin: 10px; border-radius: 10px; width: 90%\">\n",
    "<p>\n",
    "\n",
    "**Solution 3.1**\n",
    "    \n",
    "For backward differences we evaluate the Taylor series around $x_i$ at $x_{i−1}$ and $x_{i−2}$.\n",
    "To end up with a second-order accurate expression, we need to inlude terms at least up to $n=2$.\n",
    "This yields the following Taylor approximations:\n",
    "    \n",
    "$$f(x_{i-1})\\approx f(x_{i})+(x_{i-1}-x_i)\\frac{\\partial f(x_{i})}{\\partial x} +\\frac{(x_{i-1}-x_i)^2}{2}\\frac{\\partial^2 f(x_i)}{\\partial x^2}+\\mathcal{O}(x_{i-1}-x_i)^3$$\n",
    "$$f(x_{i-2})\\approx f(x_{i})+(x_{i-2}-x_i)\\frac{\\partial f(x_{i})}{\\partial x} +\\frac{(x_{i-2}-x_i)^2}{2}\\frac{\\partial^2 f(x_i)}{\\partial x^2}+\\mathcal{O}(x_{i-2}-x_i)^3$$\n",
    "\n",
    "    \n",
    "We set $\\Delta x = x_i - x_{i-1}$ for all $i$, which also means: $2\\Delta x = x_i-x_{i-2}$\n",
    "    \n",
    "$$f(x_{i-1})\\approx f(x_{i})-\\Delta x\\frac{\\partial f(x_{i})}{\\partial x} +\\frac{\\Delta x^2}{2}\\frac{\\partial^2 f(x_i)}{\\partial x^2}+\\mathcal{O}(\\Delta x)^3$$\n",
    "$$f(x_{i-2})\\approx f(x_{i})-2\\Delta x\\frac{\\partial f(x_{i})}{\\partial x} +\\frac{4\\Delta x^2}{2}\\frac{\\partial^2 f(x_i)}{\\partial x^2}+\\mathcal{O}(\\Delta x)^3$$\n",
    "    \n",
    "To get rid of the term including the second derivative, we multiply the first expression by 4 and subtract the second expression:\n",
    "    \n",
    "$$\n",
    "\\begin{aligned}\n",
    "4f(x_{i-1})-f(x_{i-2})&\\approx (4-1)f(x_{i})-(4-2)\\Delta x\\frac{\\partial f(x_{i})}{\\partial x} + (4-4)\\frac{\\Delta x^2}{2}\\frac{\\partial^2 f(x_i)}{\\partial x^2}+\\mathcal{O}(\\Delta x)^3\\\\\n",
    "&= 3f(x_{i})-2\\Delta x\\frac{\\partial f(x_{i})}{\\partial x} + \\mathcal{O}(\\Delta x)^3\n",
    "\\end{aligned}\n",
    "$$\n",
    "\n",
    "Bring the derivative to the left side and all terms involving $f(x)$ to the right side:\n",
    "$$ 2\\Delta x\\frac{\\partial f(x_{i})}{\\partial x} \\approx 3f(x_i)-4f(x_{i-1})+f(x_{i-2}) +\\mathcal{O}(\\Delta x)^3$$\n",
    "\n",
    "Divide by $2 \\Delta x$:\n",
    "\n",
    "$$\\frac{\\partial f(x_{i})}{\\partial x} \\approx \\frac{3f(x_i)-4f(x_{i-1})+f(x_{i-2})}{2\\Delta x} +\\mathcal{O}(\\Delta x)^2$$\n",
    "\n",
    "Note how the order of the error changes because we divide by $\\Delta x$.\n",
    "The final expression is second-order accurate.\n",
    "\n",
    "</p></div>"
   ]
  },
  {
   "cell_type": "markdown",
   "metadata": {},
   "source": [
    "<div style=\"margin-top: 50px; padding-top: 20px; border-top: 1px solid #ccc;\">\n",
    "  <div style=\"display: flex; justify-content: flex-end; gap: 20px; align-items: center;\">\n",
    "    <a rel=\"MUDE\" href=\"http://mude.citg.tudelft.nl/\">\n",
    "      <img alt=\"MUDE\" style=\"width:100px; height:auto;\" src=\"https://gitlab.tudelft.nl/mude/public/-/raw/main/mude-logo/MUDE_Logo-small.png\" />\n",
    "    </a>\n",
    "    <a rel=\"TU Delft\" href=\"https://www.tudelft.nl/en/ceg\">\n",
    "      <img alt=\"TU Delft\" style=\"width:100px; height:auto;\" src=\"https://gitlab.tudelft.nl/mude/public/-/raw/main/tu-logo/TU_P1_full-color.png\" />\n",
    "    </a>\n",
    "    <a rel=\"license\" href=\"http://creativecommons.org/licenses/by/4.0/\">\n",
    "      <img alt=\"Creative Commons License\" style=\"width:88px; height:auto;\" src=\"https://i.creativecommons.org/l/by/4.0/88x31.png\" />\n",
    "    </a>\n",
    "  </div>\n",
    "  <div style=\"font-size: 75%; margin-top: 10px; text-align: right;\">\n",
    "    &copy; Copyright 2025 <a rel=\"MUDE\" href=\"http://mude.citg.tudelft.nl/\">MUDE</a> TU Delft. \n",
    "    This work is licensed under a <a rel=\"license\" href=\"http://creativecommons.org/licenses/by/4.0/\">CC BY 4.0 License</a>.\n",
    "  </div>\n",
    "</div>"
   ]
  }
 ],
 "metadata": {
  "kernelspec": {
   "display_name": "mude-base",
   "language": "python",
   "name": "python3"
  },
  "language_info": {
   "codemirror_mode": {
    "name": "ipython",
    "version": 3
   },
   "file_extension": ".py",
   "mimetype": "text/x-python",
   "name": "python",
   "nbconvert_exporter": "python",
   "pygments_lexer": "ipython3",
   "version": "3.12.5"
  }
 },
 "nbformat": 4,
 "nbformat_minor": 4
}
