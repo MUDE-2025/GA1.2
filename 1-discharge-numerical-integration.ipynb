{
 "cells": [
  {
   "cell_type": "markdown",
   "metadata": {},
   "source": [
    "# Part 1: Discharge estimation and numerical integration\n",
    "\n",
    "In many hydrological and engineering applications, it is important to know how much water flows through a river or stream.\n",
    "A simple method to estimate the discharge in small rivers and streams is so called dilution gauging.\n",
    "In this method, a known amount of salt is added to the river and the concentration of the salt is measured downstream.\n",
    "\n",
    "<center><img src=\"https://files.mude.citg.tudelft.nl/dilution_gauging.svg\" width=\"50%\"/></center>\n",
    "\n",
    "Based on a mass balance, the discharge $Q$ [$\\mathrm{L}^3 \\mathrm{T}^{-1}$] can then be estimated from the injected mass $m [\\mathrm{M}]$ and the area under the concentration curve $A$:\n",
    "\n",
    "$$Q = \\frac{m}{A} = \\frac{m}{\\int_0^{t_{\\text{end}}} c(t) dt}$$\n",
    "\n",
    "where $c(t) [\\mathrm{M} \\mathrm{L}^{-3}]$ is the concentration of salt in the river above the baseline level at time $t$ and $t_{\\text{end}}$ is the end time of the measurement, well after the concentration returned to its baseline value.\n",
    "\n",
    "The plot below shows such a concentration curve. In this assignment, you will determine the discharge based on this curve.\n",
    "To evaluate the integral under the curve from the discrete measurements, you will have to use numerical integration techniques."
   ]
  },
  {
   "cell_type": "code",
   "execution_count": null,
   "metadata": {},
   "outputs": [],
   "source": [
    "import numpy as np\n",
    "import matplotlib.pyplot as plt\n",
    "from scipy.optimize import curve_fit\n",
    "\n",
    "# time in seconds\n",
    "time = np.array([  0.,  10.,  20.,  30.,  41.,  50.,  60.,  70.,  78.,  90., 100.,\n",
    "       110., 120., 130., 140., 150., 170., 180., 190., 200.])\n",
    "# concentrations in g/L\n",
    "concentration = np.array([0, 0.02, 0.1, 0.4, 0.7, 0.6, 0.4, 0.3, 0.22,\n",
    "        0.18, 0.15, 0.12, 0.1, 0.08, 0.06, 0.04, 0.01, 0, 0, 0])\n",
    "plt.plot(time, concentration, marker=\"o\")\n",
    "plt.ylabel(\"Concentration [g/L]\")\n",
    "plt.xlabel(\"Time [s]\")"
   ]
  },
  {
   "cell_type": "markdown",
   "metadata": {},
   "source": [
    "## Numerical integration of the concentration curve\n",
    "\n",
    "<div style=\"background-color:#AABAB2; color: black; width:90%; vertical-align: middle; padding:15px; margin: 10px; border-radius: 10px\">\n",
    "<p>\n",
    "\n",
    "**Task 1.1**\n",
    "\n",
    "Compute the area under the concentration curve by numerical integration. Compare two numerical integration methods of your choice.\n",
    "\n",
    "</p>\n",
    "</div>"
   ]
  },
  {
   "cell_type": "code",
   "execution_count": null,
   "metadata": {
    "tags": [
     "assignment"
    ]
   },
   "outputs": [],
   "source": [
    "# Compute the time difference between two consecutive points\n",
    "dt = np.diff(time)\n",
    "\n",
    "### YOUR CODE LINES HERE"
   ]
  },
  {
   "cell_type": "code",
   "execution_count": null,
   "metadata": {
    "tags": [
     "solution"
    ]
   },
   "outputs": [],
   "source": [
    "# Compute the time difference between two consecutive points\n",
    "dt = np.diff(time)\n",
    "\n",
    "# Compute the area of the concentration curve with the trapezoidal rule\n",
    "trapezoid_areas = (concentration[:-1] + concentration[1:]) / 2 * dt\n",
    "total_area_trapz = np.sum(trapezoid_areas)\n",
    "\n",
    "# Compute the area of the concentration curve with the left Riemann sum\n",
    "total_area_left_riemann = np.sum(concentration[:-1] * dt)\n",
    "\n",
    "# Compute the area of the concentration curve with the right Riemann sum\n",
    "total_area_right_riemann = np.sum(concentration[1:] * dt)\n",
    "\n",
    "print(\n",
    "f\"\"\"\n",
    "Total area under the concentration curve:\n",
    "Left Riemann sum: {total_area_left_riemann:.2f} g/L s\n",
    "Right Riemann sum: {total_area_right_riemann:.2f} g/L s\n",
    "Trapezoidal rule: {total_area_trapz:.2f} g/L s\n",
    "\"\"\"\n",
    ")"
   ]
  },
  {
   "cell_type": "markdown",
   "metadata": {},
   "source": [
    "<div style=\"background-color:#AABAB2; color: black; width:90%; vertical-align: middle; padding:15px; margin: 10px; border-radius: 10px\">\n",
    "<p>\n",
    "\n",
    "**Task 1.2**\n",
    "\n",
    "Which integration method is best suited for this dataset? Why?\n",
    "\n",
    "</p>\n",
    "</div>"
   ]
  },
  {
   "cell_type": "markdown",
   "metadata": {},
   "source": [
    "<div style=\"background-color:#FAE99E; color: black; vertical-align: middle; padding:15px; margin: 10px; border-radius: 10px; width: 90%\">\n",
    "\n",
    "**Solution 1.2**\n",
    "\n",
    "For the dataset, the trapezoidal rule is suitable integration technique.\n",
    "For a given number of integration points, it (theoretically) has a lower error compared to the left and right Riemann sum.\n",
    "\n",
    "While Simpson's rule would have an even lower error, it requires equally spaced measurement intervals which are not available for this data set.\n",
    "The error of the midpoint rule scales the same with the number of integration intervals as for the trapezoidal rule, but it requires evaluating the function at the midpoint of each interval. This is not possible with fixed measurements.\n",
    "</p></div>"
   ]
  },
  {
   "cell_type": "markdown",
   "metadata": {},
   "source": [
    "<div style=\"background-color:#AABAB2; color: black; width:90%; vertical-align: middle; padding:15px; margin: 10px; border-radius: 10px\">\n",
    "<p>\n",
    "\n",
    "**Task 1.3**\n",
    "\n",
    "Compute the discharge based on the concentration data. The amount of salt used tracer test is 100 g.\n",
    "\n",
    "</p>\n",
    "</div>"
   ]
  },
  {
   "cell_type": "code",
   "execution_count": null,
   "metadata": {
    "tags": [
     "assignment"
    ]
   },
   "outputs": [],
   "source": [
    "### YOUR CODE LINES HERE"
   ]
  },
  {
   "cell_type": "code",
   "execution_count": null,
   "metadata": {
    "tags": [
     "solution"
    ]
   },
   "outputs": [],
   "source": [
    "mass = 200 # g\n",
    "discharge = mass / total_area_trapz # g / (g/L * s)\n",
    "print(f\"{discharge:.2f} L/s\")"
   ]
  },
  {
   "cell_type": "markdown",
   "metadata": {},
   "source": [
    "## Comparison of simulated and measured concentrations\n",
    "\n",
    "To model the concentration curve, we fitted an analytical solution of the advection-dispersion-equation to the concentration data.\n",
    "As a consistency if the model is a good approximation to the data, we want to compare the area under the simulated concentration curve to the area under the curve obtained with measurements.\n",
    "\n",
    "Fitting models to data by parameter estimation will be a topic in later weeks of MUDE. For now, you do not need to understand how it works and do not need to modify the code on the cell below."
   ]
  },
  {
   "cell_type": "code",
   "execution_count": null,
   "metadata": {},
   "outputs": [],
   "source": [
    "# You do not need to change anything in this cell\n",
    "\n",
    "def advection_dispersion(t, x, v, D, m, A):\n",
    "    \"\"\"Compute the solution to the advection-dispersion equation\"\"\"\n",
    "    def scalar(tt):\n",
    "        \"\"\"Piecewise definition for a single time point\"\"\"\n",
    "        # For t=0, return the initial value\n",
    "        if tt <= 0:\n",
    "            return 0.0\n",
    "        # Otherwise, compute the anaytical solution\n",
    "        return (\n",
    "            m / (A * v)\n",
    "            * x / (np.sqrt(4 * np.pi * D * tt**3))\n",
    "            * np.exp(-((x - v * tt) ** 2) / (4 * D * tt))\n",
    "        ) / 1000 # convert from g/m³ to g/L\n",
    "\n",
    "    f = np.vectorize(scalar, otypes=[float])\n",
    "    return f(t)\n",
    "\n",
    "\n",
    "# Fit the model to the data to obtain the parameters v, D and A\n",
    "x = 20  # m\n",
    "f = lambda time, v, D, A: advection_dispersion(time, x, v, D, mass, A)\n",
    "popt, pcov = curve_fit(\n",
    "    f, xdata=time, ydata=concentration, p0=(0.2, 1, 0.5), bounds=(0, np.inf)\n",
    ")\n",
    "v, D, area = popt  # units: m/s, m²/s, m²\n",
    "\n",
    "# Plot the fitted curve along with the data\n",
    "time_grid = np.linspace(0, time[-1], 100)\n",
    "c_analytical = advection_dispersion(time_grid, x, v, D, mass, area)\n",
    "plt.plot(time_grid, c_analytical, label=\"simulation\")\n",
    "plt.scatter(time, concentration, label=\"measurements\")\n",
    "plt.xlabel(\"time [s]\")\n",
    "plt.ylabel(\"concentration [g/L]\")\n",
    "plt.legend()"
   ]
  },
  {
   "cell_type": "markdown",
   "metadata": {},
   "source": [
    "\n",
    "\n",
    "<div style=\"background-color:#AABAB2; color: black; width:90%; vertical-align: middle; padding:15px; margin: 10px; border-radius: 10px\">\n",
    "<p>\n",
    "\n",
    "**Task 1.4**\n",
    "    \n",
    "Evaluate the integral of the simulated concentration curve from time 0 to 200 seconds, using Simpson's rule.\n",
    "\n",
    "Vary the number of integration intervals from 2 to 50. Why does the number of integration intervals have to be an even number?\n",
    "\n",
    "Observe how the result changes with different numbers of integration intervals.\n",
    "</p>\n",
    "</div>"
   ]
  },
  {
   "cell_type": "code",
   "execution_count": null,
   "metadata": {
    "tags": [
     "solution"
    ]
   },
   "outputs": [],
   "source": [
    "# Create an array of the number of integration intervals to test\n",
    "intervals = np.arange(2, 50, step=2)\n",
    "# Initialize a list to save the value of the integral for each number\n",
    "#  of integration intervals\n",
    "integrals = []\n",
    "for n_intervals in intervals:\n",
    "    # Compute the interval length\n",
    "    t_end = time[-1]\n",
    "    dt = t_end / n_intervals\n",
    "    # Evaluate the function at the required time points\n",
    "    t = np.linspace(0, t_end, n_intervals+1)\n",
    "    f_evaluated = advection_dispersion(t, x, v, D, mass, area)\n",
    "    # Integrate the concentration curve with Simpson's rule\n",
    "    terms = [\n",
    "        (f_evaluated[2 * i - 2] + 4 * f_evaluated[2 * i - 1] + f_evaluated[2 * i]) / 6 * 2 * dt\n",
    "        for i in range(1, n_intervals // 2 + 1)\n",
    "    ]\n",
    "    integral = sum(terms)\n",
    "    # Save the value of the integral in the list\n",
    "    integrals.append(integral)"
   ]
  },
  {
   "cell_type": "code",
   "execution_count": null,
   "metadata": {
    "tags": [
     "assignment"
    ]
   },
   "outputs": [],
   "source": [
    "# Create an array of the number of integration intervals to test\n",
    "intervals = np.arange(### YOUR CODE HERE### )\n",
    "# Initialize a list to save the value of the integral for each number\n",
    "#  of integration intervals\n",
    "integrals = []\n",
    "for n_intervals in intervals:\n",
    "    # Compute the interval length\n",
    "    t_end = time[-1]\n",
    "    dt = ### YOUR CODE HERE ###\n",
    "    # Evaluate the function at the required time points\n",
    "    t = np.linspace(0, t_end, n_intervals+1)\n",
    "    f_evaluated = ### YOUR CODE HERE ###\n",
    "    # Integrate the concentration curve with Simpson's rule\n",
    "    integral = ### YOUR CODE LINES HERE ###\n",
    "    # Save the value of the integral in the list\n",
    "    integrals.append(integral)"
   ]
  },
  {
   "cell_type": "code",
   "execution_count": null,
   "metadata": {},
   "outputs": [],
   "source": [
    "plt.plot(intervals, integrals, marker=\"o\")\n",
    "plt.xlabel(\"Nr. of integration intervals\")\n",
    "plt.ylabel(\"area under the curve\");"
   ]
  },
  {
   "cell_type": "markdown",
   "metadata": {},
   "source": [
    "\n",
    "\n",
    "<div style=\"background-color:#AABAB2; color: black; width:90%; vertical-align: middle; padding:15px; margin: 10px; border-radius: 10px\">\n",
    "<p>\n",
    "\n",
    "**Task 1.5**\n",
    "    \n",
    "Compare the integral of the simulated concentrations with the integral of the measurements. Are the areas approximately the same?\n",
    "</p>\n",
    "</div>"
   ]
  },
  {
   "cell_type": "markdown",
   "metadata": {},
   "source": [
    "<div style=\"background-color:#FAE99E; color: black; vertical-align: middle; padding:15px; margin: 10px; border-radius: 10px; width: 90%\">\n",
    "<p>\n",
    "\n",
    "**Solution 1.5**\n",
    "\n",
    "The numerical integral of the measured curve is approximately 34.8, whereas the integral of the simulated curve is approximately 32.8.\n",
    "Thus, the mass captured by the simulation is close to, but slightly less than the mass captured through measurements.\n",
    "One reason for this mismatch is that the simulated curve does not exactly fit the shape of the measured curve\n",
    "\n",
    "</p>\n",
    "</div>"
   ]
  },
  {
   "cell_type": "markdown",
   "metadata": {},
   "source": [
    "<div style=\"margin-top: 50px; padding-top: 20px; border-top: 1px solid #ccc;\">\n",
    "  <div style=\"display: flex; justify-content: flex-end; gap: 20px; align-items: center;\">\n",
    "    <a rel=\"MUDE\" href=\"http://mude.citg.tudelft.nl/\">\n",
    "      <img alt=\"MUDE\" style=\"width:100px; height:auto;\" src=\"https://gitlab.tudelft.nl/mude/public/-/raw/main/mude-logo/MUDE_Logo-small.png\" />\n",
    "    </a>\n",
    "    <a rel=\"TU Delft\" href=\"https://www.tudelft.nl/en/ceg\">\n",
    "      <img alt=\"TU Delft\" style=\"width:100px; height:auto;\" src=\"https://gitlab.tudelft.nl/mude/public/-/raw/main/tu-logo/TU_P1_full-color.png\" />\n",
    "    </a>\n",
    "    <a rel=\"license\" href=\"http://creativecommons.org/licenses/by/4.0/\">\n",
    "      <img alt=\"Creative Commons License\" style=\"width:88px; height:auto;\" src=\"https://i.creativecommons.org/l/by/4.0/88x31.png\" />\n",
    "    </a>\n",
    "  </div>\n",
    "  <div style=\"font-size: 75%; margin-top: 10px; text-align: right;\">\n",
    "    &copy; Copyright 2025 <a rel=\"MUDE\" href=\"http://mude.citg.tudelft.nl/\">MUDE</a> TU Delft. \n",
    "    This work is licensed under a <a rel=\"license\" href=\"http://creativecommons.org/licenses/by/4.0/\">CC BY 4.0 License</a>.\n",
    "  </div>\n",
    "</div>"
   ]
  }
 ],
 "metadata": {
  "kernelspec": {
   "display_name": "mude-base",
   "language": "python",
   "name": "python3"
  },
  "language_info": {
   "codemirror_mode": {
    "name": "ipython",
    "version": 3
   },
   "file_extension": ".py",
   "mimetype": "text/x-python",
   "name": "python",
   "nbconvert_exporter": "python",
   "pygments_lexer": "ipython3",
   "version": "3.12.5"
  }
 },
 "nbformat": 4,
 "nbformat_minor": 4
}
